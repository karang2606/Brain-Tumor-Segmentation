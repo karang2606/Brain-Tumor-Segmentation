{
 "cells": [
  {
   "cell_type": "code",
   "execution_count": null,
   "id": "eae8c480",
   "metadata": {},
   "outputs": [],
   "source": [
    "import numpy as np\n",
    "import os\n",
    "import random\n",
    "import matplotlib.pyplot as plt\n",
    "import segmentation_models_3D as sm\n",
    "import tensorflow as tf\n",
    "from keras.callbacks import ModelCheckpoint\n",
    "import timeit\n",
    "import tensorflow.keras.backend as K\n",
    "from keras.models import load_model\n"
   ]
  },
  {
   "cell_type": "code",
   "execution_count": null,
   "id": "e9764a9f",
   "metadata": {},
   "outputs": [],
   "source": [
    "print(\"Num GPUs Available: \", len(tf.config.list_physical_devices('GPU')))"
   ]
  },
  {
   "cell_type": "code",
   "execution_count": null,
   "id": "451989d0",
   "metadata": {},
   "outputs": [],
   "source": [
    "config = tf.compat.v1.ConfigProto()\n",
    "config.gpu_options.allow_growth = True\n",
    "sess= tf.compat.v1.Session(config=config)"
   ]
  },
  {
   "cell_type": "code",
   "execution_count": null,
   "id": "7d7755d8",
   "metadata": {},
   "outputs": [],
   "source": [
    "from ipynb.fs.full.custom_datagen import imageLoader, predict_image, predict_batch, plot_predict"
   ]
  },
  {
   "cell_type": "code",
   "execution_count": null,
   "id": "dc47750d",
   "metadata": {},
   "outputs": [],
   "source": [
    "#Define the image generators for training and validation\n",
    "\n",
    "train_img_dir = \"./data2/train/images/\"\n",
    "train_mask_dir = \"./data2/train/masks/\"\n",
    "\n",
    "val_img_dir = \"./data2/val/images/\"\n",
    "val_mask_dir = \"./data2/val/masks/\"\n",
    "\n",
    "train_img_list=list(np.sort(os.listdir(train_img_dir)))\n",
    "train_mask_list = list(np.sort(os.listdir(train_mask_dir)))\n",
    "\n",
    "val_img_list = list(np.sort(os.listdir(val_img_dir)))\n",
    "val_mask_list = list(np.sort(os.listdir(val_mask_dir)))"
   ]
  },
  {
   "cell_type": "code",
   "execution_count": null,
   "id": "8bfef84a",
   "metadata": {},
   "outputs": [],
   "source": [
    "'''\n",
    "Modalities\n",
    "0 - Flair\n",
    "2 - T2\n",
    "1 - T1ce\n",
    "3 - T1\n",
    "'All' - for all above\n",
    "\n",
    "Mask-Type\n",
    "0 - Whole Tumor\n",
    "1 - Tumor Core\n",
    "2 - Enhancing Tumor\n",
    "'''\n",
    "\n",
    "batch_size = 2\n",
    "\n",
    "train_img_datagen = imageLoader(train_img_dir, train_img_list, \n",
    "                                    train_mask_dir, train_mask_list, batch_size,'All',0)\n",
    "\n",
    "val_img_datagen = imageLoader(val_img_dir, val_img_list, \n",
    "                                    val_mask_dir, val_mask_list, batch_size,'All',0)"
   ]
  },
  {
   "cell_type": "code",
   "execution_count": null,
   "id": "1f7a5a04",
   "metadata": {},
   "outputs": [],
   "source": [
    "#Verify generator.... In python 3 next() is renamed as __next__()\n",
    "img, msk = train_img_datagen.__next__()\n",
    "\n",
    "\n",
    "img_num = random.randint(0,img.shape[0]-1)\n",
    "test_img=img[img_num]\n",
    "test_mask=msk[img_num]\n",
    "\n",
    "n_slice=random.randint(0, test_mask.shape[2])\n",
    "plt.figure(figsize=(12, 8))\n",
    "\n",
    "plt.subplot(151)\n",
    "plt.imshow(test_img[:,:,n_slice, 0], cmap='gray')\n",
    "plt.title('Image flair')\n",
    "plt.subplot(152)\n",
    "plt.imshow(test_img[:,:,n_slice, 1], cmap='gray')\n",
    "plt.title('Image t2')\n",
    "plt.subplot(153)\n",
    "plt.imshow(test_img[:,:,n_slice, 2], cmap='gray')\n",
    "plt.title('Image t1ce')\n",
    "plt.subplot(154)\n",
    "plt.imshow(test_img[:,:,n_slice, 3], cmap='gray')\n",
    "plt.title('Image t1')\n",
    "plt.subplot(155)\n",
    "plt.imshow(test_mask[:,:,n_slice])\n",
    "plt.title('whole tumor')\n",
    "plt.show()"
   ]
  },
  {
   "cell_type": "code",
   "execution_count": null,
   "id": "792544aa",
   "metadata": {},
   "outputs": [],
   "source": [
    "from ipynb.fs.full.Anam_net import Anam_net\n",
    "from ipynb.fs.full.UNetpp import unet_pp\n",
    "from ipynb.fs.full.UNet import unet\n",
    "from ipynb.fs.full.RescueNet import Rescue_Net\n",
    "\n",
    "#Test if everything is working ok. \n",
    "model = Rescue_Net(IMG_HEIGHT=128, \n",
    "                          IMG_WIDTH=128, \n",
    "                          IMG_DEPTH=128, \n",
    "                          IMG_CHANNELS=4, \n",
    "                          num_classes=1)\n",
    "\n",
    "model.summary()\n",
    "print(model.input_shape)\n",
    "print(model.output_shape)"
   ]
  },
  {
   "cell_type": "code",
   "execution_count": null,
   "id": "27b1057d",
   "metadata": {},
   "outputs": [],
   "source": [
    "def dice_coef(y_true, y_pred, smooth=1):\n",
    "    y_true_f = K.flatten(y_true)\n",
    "    y_pred_f = K.flatten(y_pred)\n",
    "    intersection = K.sum(y_true_f * y_pred_f)\n",
    "    return (2. * intersection + smooth) / (K.sum(y_true_f) + K.sum(y_pred_f) + smooth)\n",
    "\n",
    "def dice_coef_loss(y_true, y_pred):\n",
    "    return 1. - dice_coef(y_true, y_pred)"
   ]
  },
  {
   "cell_type": "code",
   "execution_count": null,
   "id": "6f2ce48d",
   "metadata": {},
   "outputs": [],
   "source": [
    "#Define loss, metrics and optimizer to be used for training\n",
    "metrics = [dice_coef ,'Precision', 'Recall', sm.metrics.IOUScore(threshold=0.5)]\n",
    "\n",
    "LR = 0.0001\n",
    "optim = tf.keras.optimizers.Adam(LR)"
   ]
  },
  {
   "cell_type": "code",
   "execution_count": null,
   "id": "4b30a765",
   "metadata": {},
   "outputs": [],
   "source": [
    "steps_per_epoch = len(train_img_list) // batch_size\n",
    "val_steps_per_epoch = len(val_img_list) // batch_size\n",
    "\n",
    "model.compile(optimizer = optim, loss= dice_coef_loss, metrics=metrics)\n",
    "\n",
    "checkpoint = ModelCheckpoint('Anam_Net_All_whole_tumor' + \".hdf5\", monitor='loss',\n",
    "    save_best_only=True, mode='auto',save_freq=\"epoch\",)\n",
    "\n",
    "start = timeit.default_timer()\n",
    "\n",
    "history=model.fit(train_img_datagen,\n",
    "              steps_per_epoch=steps_per_epoch,\n",
    "              epochs=1,\n",
    "              verbose=1,\n",
    "              validation_data=val_img_datagen,\n",
    "              validation_steps=val_steps_per_epoch,\n",
    "              callbacks=[checkpoint],\n",
    "              )\n",
    "stop = timeit.default_timer()\n",
    "\n",
    "print('Time: ', stop - start)"
   ]
  },
  {
   "cell_type": "code",
   "execution_count": null,
   "id": "0d746efa",
   "metadata": {},
   "outputs": [],
   "source": [
    "my_model = load_model('./Anam_Net_All_whole_tumor.hdf5', compile=False)\n",
    "\n",
    "start = timeit.default_timer()\n",
    "predict_batch(my_model, val_img_dir, val_img_list, val_mask_dir, val_mask_list, 'All' , 0, batch_size)\n",
    "stop = timeit.default_timer()\n",
    "print('Time: ', (stop - start)/8)"
   ]
  },
  {
   "cell_type": "code",
   "execution_count": null,
   "id": "74bc69bb",
   "metadata": {},
   "outputs": [],
   "source": [
    "my_model = load_model('./Anam_Net_All_whole_tumor.hdf5', compile=False)\n",
    "\n",
    "test_img, test_mask, test_prediction = predict_image(my_model, 'All' , 0, img_num = 0)"
   ]
  },
  {
   "cell_type": "code",
   "execution_count": null,
   "id": "8b2448cd",
   "metadata": {},
   "outputs": [],
   "source": [
    "#Plot individual slices from test predictions for verification\n",
    "\n",
    "# n_slice=random.randint(0, test_prediction_argmax.shape[2])\n",
    "# print(n_slice)\n",
    "n_slice = 60\n",
    "plot_predict(test_img, test_mask, test_prediction, n_slice)"
   ]
  }
 ],
 "metadata": {
  "kernelspec": {
   "display_name": "Python 3 (ipykernel)",
   "language": "python",
   "name": "python3"
  },
  "language_info": {
   "codemirror_mode": {
    "name": "ipython",
    "version": 3
   },
   "file_extension": ".py",
   "mimetype": "text/x-python",
   "name": "python",
   "nbconvert_exporter": "python",
   "pygments_lexer": "ipython3",
   "version": "3.9.12"
  }
 },
 "nbformat": 4,
 "nbformat_minor": 5
}
